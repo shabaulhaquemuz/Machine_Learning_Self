{
 "cells": [
  {
   "cell_type": "code",
   "execution_count": 3,
   "id": "3eb44db2-cf4d-4667-ba9e-0a8b30e2a8f8",
   "metadata": {},
   "outputs": [],
   "source": [
    "#Feature Engineering:\n",
    "# Feature Engineering is the process of creating new features or modifying the existing features and selecting these from raw data \n",
    "# to improve the performance of a machine learning model which helps in capturing hidden patterns in the data.\n",
    "#It includes parts of data preprocessing and data cleaning\n",
    "#it involves feature transformation, feature construction,feature selection, feature extraction.\n",
    "# Feature Transformation: Modifying existing features to make them suitable for the model (e.g., scaling or normalizing).\n",
    "\n",
    "# Feature Construction: Creating new features from raw data to capture hidden patterns (e.g., age from date_of_birth).\n",
    "\n",
    "# Feature Selection: Choosing the most relevant features to improve model performance and reduce noise.\n",
    "\n",
    "# Feature Extraction: Reducing dimensionality by combining or transforming features into a new set (e.g., PCA)."
   ]
  },
  {
   "cell_type": "code",
   "execution_count": 5,
   "id": "7b7c1edd-02df-4000-9d2d-6fe7e3f6b2c3",
   "metadata": {},
   "outputs": [],
   "source": [
    "# Feature Scaling: The process of normalizing or standardizing numerical features so that they are on a similar scale, ensuring that no single \n",
    "# feature dominates the model due to its magnitude.\n",
    "#This helps machine learning models perform better, especially those that rely on distances or gradients.\n",
    "\n",
    "\n",
    "#Types of feature scaling:1.standardization 2. normalization\n",
    "#1. Standardization: \n",
    "# Standardization is the process of transforming numerical features in a dataset so that they have:\n",
    "# a mean (μ) of 0, and\n",
    "# a standard deviation (σ) of 1\n",
    "\n",
    "#In standardization two processes involved:\n",
    "#1. Mean Centering 2.Scaling by Standard Deviation\n",
    "\n",
    "# Standardization Formula:\n",
    "# z=(𝑥-μ)/𝜎\n",
    "# Where:\n",
    "# 𝑥: original feature value\n",
    "# 𝜇: mean of the feature\n",
    "# 𝜎: standard deviation of the feature\n",
    "# 𝑧: standardized value\n",
    "\n",
    "\n",
    "#Note: standardization is also called as Z-Score Normalization\n"
   ]
  },
  {
   "cell_type": "code",
   "execution_count": null,
   "id": "4899843a-a278-487e-8f23-fada26e8f3f9",
   "metadata": {},
   "outputs": [],
   "source": [
    "#StandardScaler is a class/module in scikit-learn that is specifically designed to apply the standardization formula:\n",
    "# when this formula is applied:\n",
    "# z=(𝑥-μ)/𝜎\n",
    "# a mean (μ) of 0, and\n",
    "# a standard deviation (σ) of 1\n",
    "# The standardization formula is applied when you call:\n",
    "# X_scaled = scaler.fit_transform(X)\n",
    "\n",
    "\n",
    "# or in two steps:\n",
    "# scaler.fit(X)          # calculates mean (μ) and std (σ)\n",
    "# X_scaled = scaler.transform(X)  # applies the formula\n"
   ]
  },
  {
   "cell_type": "code",
   "execution_count": 7,
   "id": "3c83e16c-55bd-4a2d-a69c-d12c8f302f1d",
   "metadata": {},
   "outputs": [],
   "source": [
    "#NOTE: To perform feature scaling, either standardization or normalization in both the cases it is preferable to perform train_test_split"
   ]
  },
  {
   "cell_type": "code",
   "execution_count": 127,
   "id": "126d5d9f-d77e-4a76-8053-22965dda80c5",
   "metadata": {},
   "outputs": [],
   "source": [
    "import numpy as np\n",
    "import pandas as pd"
   ]
  },
  {
   "cell_type": "code",
   "execution_count": 129,
   "id": "8c438f24-5ea9-46c0-8be4-c3e6b28c50f4",
   "metadata": {},
   "outputs": [],
   "source": [
    "df=pd.read_csv(\"Social_Network_Ads.csv\")"
   ]
  },
  {
   "cell_type": "code",
   "execution_count": null,
   "id": "015bdfc4-6f88-430d-a6a8-732397911d48",
   "metadata": {},
   "outputs": [],
   "source": [
    "#syntax od using iloc\n",
    "#df.iloc[rows, columns]\n",
    "#df.iloc[:,2:] , it means selecting all rows and column selection after index 0 and 1."
   ]
  },
  {
   "cell_type": "code",
   "execution_count": 19,
   "id": "6ad67a28-bdfc-437f-a6ce-301b8bbc7a24",
   "metadata": {},
   "outputs": [],
   "source": [
    "# df.head() → Shows the first 5 rows of the DataFrame by default.\n",
    "# df.sample() → Shows 1 random row of the DataFrame by default.\n",
    "#df.sample(n)-> Shows n number of random rows from the dataframe"
   ]
  },
  {
   "cell_type": "code",
   "execution_count": 131,
   "id": "263f6dd6-09a1-4247-8714-ee90d6535867",
   "metadata": {},
   "outputs": [
    {
     "data": {
      "text/html": [
       "<div>\n",
       "<style scoped>\n",
       "    .dataframe tbody tr th:only-of-type {\n",
       "        vertical-align: middle;\n",
       "    }\n",
       "\n",
       "    .dataframe tbody tr th {\n",
       "        vertical-align: top;\n",
       "    }\n",
       "\n",
       "    .dataframe thead th {\n",
       "        text-align: right;\n",
       "    }\n",
       "</style>\n",
       "<table border=\"1\" class=\"dataframe\">\n",
       "  <thead>\n",
       "    <tr style=\"text-align: right;\">\n",
       "      <th></th>\n",
       "      <th>User ID</th>\n",
       "      <th>Gender</th>\n",
       "      <th>Age</th>\n",
       "      <th>EstimatedSalary</th>\n",
       "      <th>Purchased</th>\n",
       "    </tr>\n",
       "  </thead>\n",
       "  <tbody>\n",
       "    <tr>\n",
       "      <th>97</th>\n",
       "      <td>15582492</td>\n",
       "      <td>Male</td>\n",
       "      <td>28</td>\n",
       "      <td>123000</td>\n",
       "      <td>1</td>\n",
       "    </tr>\n",
       "    <tr>\n",
       "      <th>143</th>\n",
       "      <td>15783029</td>\n",
       "      <td>Male</td>\n",
       "      <td>30</td>\n",
       "      <td>89000</td>\n",
       "      <td>0</td>\n",
       "    </tr>\n",
       "  </tbody>\n",
       "</table>\n",
       "</div>"
      ],
      "text/plain": [
       "      User ID Gender  Age  EstimatedSalary  Purchased\n",
       "97   15582492   Male   28           123000          1\n",
       "143  15783029   Male   30            89000          0"
      ]
     },
     "execution_count": 131,
     "metadata": {},
     "output_type": "execute_result"
    }
   ],
   "source": [
    "df.sample(2)"
   ]
  },
  {
   "cell_type": "code",
   "execution_count": 133,
   "id": "51c5226b-464e-416b-bf50-01c9a9a39876",
   "metadata": {},
   "outputs": [
    {
     "data": {
      "text/html": [
       "<div>\n",
       "<style scoped>\n",
       "    .dataframe tbody tr th:only-of-type {\n",
       "        vertical-align: middle;\n",
       "    }\n",
       "\n",
       "    .dataframe tbody tr th {\n",
       "        vertical-align: top;\n",
       "    }\n",
       "\n",
       "    .dataframe thead th {\n",
       "        text-align: right;\n",
       "    }\n",
       "</style>\n",
       "<table border=\"1\" class=\"dataframe\">\n",
       "  <thead>\n",
       "    <tr style=\"text-align: right;\">\n",
       "      <th></th>\n",
       "      <th>User ID</th>\n",
       "      <th>Gender</th>\n",
       "      <th>Age</th>\n",
       "      <th>EstimatedSalary</th>\n",
       "      <th>Purchased</th>\n",
       "    </tr>\n",
       "  </thead>\n",
       "  <tbody>\n",
       "    <tr>\n",
       "      <th>0</th>\n",
       "      <td>15624510</td>\n",
       "      <td>Male</td>\n",
       "      <td>19</td>\n",
       "      <td>19000</td>\n",
       "      <td>0</td>\n",
       "    </tr>\n",
       "    <tr>\n",
       "      <th>1</th>\n",
       "      <td>15810944</td>\n",
       "      <td>Male</td>\n",
       "      <td>35</td>\n",
       "      <td>20000</td>\n",
       "      <td>0</td>\n",
       "    </tr>\n",
       "  </tbody>\n",
       "</table>\n",
       "</div>"
      ],
      "text/plain": [
       "    User ID Gender  Age  EstimatedSalary  Purchased\n",
       "0  15624510   Male   19            19000          0\n",
       "1  15810944   Male   35            20000          0"
      ]
     },
     "execution_count": 133,
     "metadata": {},
     "output_type": "execute_result"
    }
   ],
   "source": [
    "df.head(2)"
   ]
  },
  {
   "cell_type": "code",
   "execution_count": 135,
   "id": "2c5954dc-73ee-40b5-8a87-0f6afb71ae79",
   "metadata": {},
   "outputs": [],
   "source": [
    "df=df.iloc[:,2:]"
   ]
  },
  {
   "cell_type": "code",
   "execution_count": 137,
   "id": "2bd9a747-3728-4d2d-b218-1d2431303714",
   "metadata": {},
   "outputs": [
    {
     "data": {
      "text/html": [
       "<div>\n",
       "<style scoped>\n",
       "    .dataframe tbody tr th:only-of-type {\n",
       "        vertical-align: middle;\n",
       "    }\n",
       "\n",
       "    .dataframe tbody tr th {\n",
       "        vertical-align: top;\n",
       "    }\n",
       "\n",
       "    .dataframe thead th {\n",
       "        text-align: right;\n",
       "    }\n",
       "</style>\n",
       "<table border=\"1\" class=\"dataframe\">\n",
       "  <thead>\n",
       "    <tr style=\"text-align: right;\">\n",
       "      <th></th>\n",
       "      <th>Age</th>\n",
       "      <th>EstimatedSalary</th>\n",
       "      <th>Purchased</th>\n",
       "    </tr>\n",
       "  </thead>\n",
       "  <tbody>\n",
       "    <tr>\n",
       "      <th>104</th>\n",
       "      <td>19</td>\n",
       "      <td>21000</td>\n",
       "      <td>0</td>\n",
       "    </tr>\n",
       "    <tr>\n",
       "      <th>79</th>\n",
       "      <td>26</td>\n",
       "      <td>17000</td>\n",
       "      <td>0</td>\n",
       "    </tr>\n",
       "  </tbody>\n",
       "</table>\n",
       "</div>"
      ],
      "text/plain": [
       "     Age  EstimatedSalary  Purchased\n",
       "104   19            21000          0\n",
       "79    26            17000          0"
      ]
     },
     "execution_count": 137,
     "metadata": {},
     "output_type": "execute_result"
    }
   ],
   "source": [
    "df.sample(2)"
   ]
  },
  {
   "cell_type": "code",
   "execution_count": 35,
   "id": "4a81e271-798f-4b3c-a572-2cd5b5cc3351",
   "metadata": {},
   "outputs": [],
   "source": [
    "#Now we have to perform feature scaling i.e standardization method here and to perform any feature scaling either standardization or normalization,\n",
    "#it is always recommended to perform train_test_split"
   ]
  },
  {
   "cell_type": "markdown",
   "id": "cb8f3049-6d8d-4407-9f1a-c7fc5e01a9a8",
   "metadata": {},
   "source": [
    "# TRAIN_TEST_SPLIT"
   ]
  },
  {
   "cell_type": "code",
   "execution_count": 139,
   "id": "db90f244-ee32-4c46-bf1c-cc7e680d2275",
   "metadata": {},
   "outputs": [],
   "source": [
    "from sklearn.model_selection import train_test_split\n",
    "x_train,x_test,y_train,y_test=train_test_split(df.drop(\"Purchased\",axis=1),df[\"Purchased\"],test_size=0.3,random_state=0)"
   ]
  },
  {
   "cell_type": "code",
   "execution_count": 141,
   "id": "54a5bca9-b57c-4878-bab6-947416f0f861",
   "metadata": {},
   "outputs": [
    {
     "name": "stdout",
     "output_type": "stream",
     "text": [
      "(280, 2)\n",
      "(120, 2)\n"
     ]
    }
   ],
   "source": [
    "print(x_train.shape)\n",
    "print(x_test.shape)"
   ]
  },
  {
   "cell_type": "markdown",
   "id": "584f01d1-acb0-43f8-bd56-8fa36161b014",
   "metadata": {},
   "source": [
    "# Standard Scaler"
   ]
  },
  {
   "cell_type": "code",
   "execution_count": 143,
   "id": "8b3b6f24-703a-4a4c-bf31-36ce2bd27da2",
   "metadata": {},
   "outputs": [],
   "source": [
    "#importing module StandardScaler from sklearn library to perform standardization\n",
    "from sklearn.preprocessing import StandardScaler\n",
    "\n",
    "#creating object os StandardScaler module\n",
    "scaler=StandardScaler()\n",
    "\n",
    "scaler.fit(x_train)  #mean and standard deviation is calculated here(here the learning process is done which is done on training data only)\n",
    "x_train_scaled=scaler.transform(x_train)  #the step where formus is applied for standardization(here trasformation is do ne which is done in both testing and training data)\n",
    "x_test_scaled=scaler.transform(x_test)"
   ]
  },
  {
   "cell_type": "code",
   "execution_count": 145,
   "id": "f14377ba-154f-40df-a5d2-cf524b3da308",
   "metadata": {},
   "outputs": [
    {
     "name": "stdout",
     "output_type": "stream",
     "text": [
      "     Age  EstimatedSalary\n",
      "157   29            75000\n",
      "109   38            80000\n",
      "[[-0.84252154  0.1301563 ]\n",
      " [ 0.04175763  0.2777019 ]]\n"
     ]
    }
   ],
   "source": [
    "#Important Note\n",
    "print(x_train.head(2))\n",
    "print(x_train_scaled[:2])   # first 2 rows of numpy array\n",
    "# x_train data is actually a dataframe but when standardization is done that is \"x_train_scaled\" it becomes numpy array \n"
   ]
  },
  {
   "cell_type": "code",
   "execution_count": 85,
   "id": "642e0b41-1653-4599-a4f2-d3751e3b4aa4",
   "metadata": {},
   "outputs": [],
   "source": [
    "#To solve the above problem we have to convert the numpy array into data frame.. i.e. x_train_scaled into dataframe from numpy array"
   ]
  },
  {
   "cell_type": "code",
   "execution_count": 147,
   "id": "be1ce5d9-90aa-429b-827e-cf6f065d3944",
   "metadata": {},
   "outputs": [],
   "source": [
    "x_train_scaled=pd.DataFrame(x_train_scaled,columns=x_train.columns)\n",
    "x_test_scaled=pd.DataFrame(x_test_scaled,columns=x_test.columns)"
   ]
  },
  {
   "cell_type": "code",
   "execution_count": 157,
   "id": "8bb3ad3b-3132-40a8-a491-859c2811b233",
   "metadata": {},
   "outputs": [
    {
     "data": {
      "text/html": [
       "<div>\n",
       "<style scoped>\n",
       "    .dataframe tbody tr th:only-of-type {\n",
       "        vertical-align: middle;\n",
       "    }\n",
       "\n",
       "    .dataframe tbody tr th {\n",
       "        vertical-align: top;\n",
       "    }\n",
       "\n",
       "    .dataframe thead th {\n",
       "        text-align: right;\n",
       "    }\n",
       "</style>\n",
       "<table border=\"1\" class=\"dataframe\">\n",
       "  <thead>\n",
       "    <tr style=\"text-align: right;\">\n",
       "      <th></th>\n",
       "      <th>Age</th>\n",
       "      <th>EstimatedSalary</th>\n",
       "    </tr>\n",
       "  </thead>\n",
       "  <tbody>\n",
       "    <tr>\n",
       "      <th>count</th>\n",
       "      <td>280.0</td>\n",
       "      <td>280.0</td>\n",
       "    </tr>\n",
       "    <tr>\n",
       "      <th>mean</th>\n",
       "      <td>37.6</td>\n",
       "      <td>70589.3</td>\n",
       "    </tr>\n",
       "    <tr>\n",
       "      <th>std</th>\n",
       "      <td>10.2</td>\n",
       "      <td>33948.5</td>\n",
       "    </tr>\n",
       "    <tr>\n",
       "      <th>min</th>\n",
       "      <td>18.0</td>\n",
       "      <td>15000.0</td>\n",
       "    </tr>\n",
       "    <tr>\n",
       "      <th>25%</th>\n",
       "      <td>30.0</td>\n",
       "      <td>44000.0</td>\n",
       "    </tr>\n",
       "    <tr>\n",
       "      <th>50%</th>\n",
       "      <td>37.0</td>\n",
       "      <td>71000.0</td>\n",
       "    </tr>\n",
       "    <tr>\n",
       "      <th>75%</th>\n",
       "      <td>45.0</td>\n",
       "      <td>88000.0</td>\n",
       "    </tr>\n",
       "    <tr>\n",
       "      <th>max</th>\n",
       "      <td>60.0</td>\n",
       "      <td>150000.0</td>\n",
       "    </tr>\n",
       "  </tbody>\n",
       "</table>\n",
       "</div>"
      ],
      "text/plain": [
       "         Age  EstimatedSalary\n",
       "count  280.0            280.0\n",
       "mean    37.6          70589.3\n",
       "std     10.2          33948.5\n",
       "min     18.0          15000.0\n",
       "25%     30.0          44000.0\n",
       "50%     37.0          71000.0\n",
       "75%     45.0          88000.0\n",
       "max     60.0         150000.0"
      ]
     },
     "execution_count": 157,
     "metadata": {},
     "output_type": "execute_result"
    }
   ],
   "source": [
    "np.round(x_train.describe(),1)  #original mean is 37.6 for Age column and 70589.3 for Purchased column"
   ]
  },
  {
   "cell_type": "code",
   "execution_count": 159,
   "id": "4fd88a35-258e-4f3d-9b5d-bc48f4e4728d",
   "metadata": {},
   "outputs": [
    {
     "data": {
      "text/html": [
       "<div>\n",
       "<style scoped>\n",
       "    .dataframe tbody tr th:only-of-type {\n",
       "        vertical-align: middle;\n",
       "    }\n",
       "\n",
       "    .dataframe tbody tr th {\n",
       "        vertical-align: top;\n",
       "    }\n",
       "\n",
       "    .dataframe thead th {\n",
       "        text-align: right;\n",
       "    }\n",
       "</style>\n",
       "<table border=\"1\" class=\"dataframe\">\n",
       "  <thead>\n",
       "    <tr style=\"text-align: right;\">\n",
       "      <th></th>\n",
       "      <th>Age</th>\n",
       "      <th>EstimatedSalary</th>\n",
       "    </tr>\n",
       "  </thead>\n",
       "  <tbody>\n",
       "    <tr>\n",
       "      <th>count</th>\n",
       "      <td>280.0</td>\n",
       "      <td>280.0</td>\n",
       "    </tr>\n",
       "    <tr>\n",
       "      <th>mean</th>\n",
       "      <td>-0.0</td>\n",
       "      <td>0.0</td>\n",
       "    </tr>\n",
       "    <tr>\n",
       "      <th>std</th>\n",
       "      <td>1.0</td>\n",
       "      <td>1.0</td>\n",
       "    </tr>\n",
       "    <tr>\n",
       "      <th>min</th>\n",
       "      <td>-1.9</td>\n",
       "      <td>-1.6</td>\n",
       "    </tr>\n",
       "    <tr>\n",
       "      <th>25%</th>\n",
       "      <td>-0.7</td>\n",
       "      <td>-0.8</td>\n",
       "    </tr>\n",
       "    <tr>\n",
       "      <th>50%</th>\n",
       "      <td>-0.1</td>\n",
       "      <td>0.0</td>\n",
       "    </tr>\n",
       "    <tr>\n",
       "      <th>75%</th>\n",
       "      <td>0.7</td>\n",
       "      <td>0.5</td>\n",
       "    </tr>\n",
       "    <tr>\n",
       "      <th>max</th>\n",
       "      <td>2.2</td>\n",
       "      <td>2.3</td>\n",
       "    </tr>\n",
       "  </tbody>\n",
       "</table>\n",
       "</div>"
      ],
      "text/plain": [
       "         Age  EstimatedSalary\n",
       "count  280.0            280.0\n",
       "mean    -0.0              0.0\n",
       "std      1.0              1.0\n",
       "min     -1.9             -1.6\n",
       "25%     -0.7             -0.8\n",
       "50%     -0.1              0.0\n",
       "75%      0.7              0.5\n",
       "max      2.2              2.3"
      ]
     },
     "execution_count": 159,
     "metadata": {},
     "output_type": "execute_result"
    }
   ],
   "source": [
    "np.round(x_train_scaled.describe(),1)"
   ]
  },
  {
   "cell_type": "code",
   "execution_count": null,
   "id": "4c871056-e747-41d5-ab3e-774c638a29b4",
   "metadata": {},
   "outputs": [],
   "source": []
  }
 ],
 "metadata": {
  "kernelspec": {
   "display_name": "Python 3 (ipykernel)",
   "language": "python",
   "name": "python3"
  },
  "language_info": {
   "codemirror_mode": {
    "name": "ipython",
    "version": 3
   },
   "file_extension": ".py",
   "mimetype": "text/x-python",
   "name": "python",
   "nbconvert_exporter": "python",
   "pygments_lexer": "ipython3",
   "version": "3.12.4"
  }
 },
 "nbformat": 4,
 "nbformat_minor": 5
}
