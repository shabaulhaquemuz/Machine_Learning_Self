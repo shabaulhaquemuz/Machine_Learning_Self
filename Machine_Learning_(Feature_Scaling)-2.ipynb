{
 "cells": [
  {
   "cell_type": "code",
   "execution_count": 1,
   "id": "4a5907a1-e9d7-491e-a7bf-6478dc14230a",
   "metadata": {},
   "outputs": [],
   "source": [
    "#Normalization: Normalization is a data preprocessing technique used to rescale numerical features so that they fall within a \n",
    "#specific range, typically [0, 1]."
   ]
  },
  {
   "cell_type": "code",
   "execution_count": 3,
   "id": "9ddfdefb-f160-4174-b842-a048b46de27d",
   "metadata": {},
   "outputs": [],
   "source": [
    "# | Technique           | Range Target     | Use Case                          |\n",
    "# | ------------------- | ---------------- | --------------------------------- |\n",
    "# | **Standardization** | Mean = 0, SD = 1 | When data is normally distributed |\n",
    "# | **Normalization**   | Range \\[0, 1]    | When you need bounded values      |\n"
   ]
  },
  {
   "cell_type": "code",
   "execution_count": 7,
   "id": "3910a9b8-f5b3-45d7-8ab4-dde7273b8599",
   "metadata": {},
   "outputs": [],
   "source": [
    "#1.Data Dividation:\n",
    "#after data collection and data preprocesssing, data splitting(train_test_split) is done.\n",
    "#THe dataaframe is dividedinto two parts: 1. input(x) 2.target(y) where(df=input+target)\n",
    "#from x, x_train,x_test is created   ..... x is independent data\n",
    "#from y,y_train,y_test is created    ..... y is dependent data\n",
    "#we divide data in two parts: training and testimg data.. where majority data is for training and minority data is for testing\n",
    "\n",
    "# We must use both X_train and y_train to train a supervised machine learning model.\n",
    "# Here’s why:\n",
    "# X_train = input features (what the model sees).\n",
    "# y_train = target labels (what the model is trying to predict).\n",
    "# We actively use y_train during training — it’s not just for reference\n",
    "# The model calculates(predict) the output from X_train, then compares its predictions with y_train to learn and improve.\n",
    "\n",
    "# Actually, normalization (or scaling) is usually considered part of data preprocessing, not after splitting.\n",
    "# But the important thing is when and how you apply it:\n",
    "\n",
    "# ✅ Correct Order\n",
    "# Data Collection\n",
    "# Data Preprocessing (handle missing values, encode categories, remove duplicates, etc.)\n",
    "# Data Splitting (train/test/validation split)\n",
    "# Normalization / Standardization\n",
    "\n",
    "#Standardization is actually a type of normalization.\n",
    "#Types of normalization:\n",
    "#1.Min-Max Scaling(mostly used types..90 % times this type is used)\n",
    "#2. Z-Score Normalization (Standardization)\n",
    "#3.Mean Normqalization"
   ]
  },
  {
   "cell_type": "code",
   "execution_count": 9,
   "id": "98960183-246c-4a6d-9fdf-483f29821fc5",
   "metadata": {},
   "outputs": [],
   "source": [
    "#Normalization Formula:\n",
    "#x'=x-x(min)/x(max)-x(min)\n",
    "# Example: If age = 40, min = 20, max = 60 → normalized = 0.5\n",
    "\n",
    "\n",
    "# x → The actual value (your raw data point)\n",
    "# x_min → The smallest value in that column (feature)\n",
    "# x_max → The largest value in that column\n",
    "# x - x_min → How far the value is from the minimum\n",
    "# x_max - x_min → The full range of values (max − min)\n",
    "#x' → The new scaled value/normalized value (between 0 and 1)\n",
    "\n",
    "#The scaled/new distribution of data are in the range of 0 and 1 only."
   ]
  },
  {
   "cell_type": "code",
   "execution_count": 112,
   "id": "5fdde5e6-1571-40e5-a589-090b66d8975a",
   "metadata": {},
   "outputs": [],
   "source": [
    "import numpy as np\n",
    "import pandas as pd"
   ]
  },
  {
   "cell_type": "code",
   "execution_count": 114,
   "id": "807a328c-59a7-464c-8803-d7f428e52ddb",
   "metadata": {},
   "outputs": [],
   "source": [
    "df=pd.read_csv(\"wine_data.csv\",usecols=[0,1,2])"
   ]
  },
  {
   "cell_type": "code",
   "execution_count": 116,
   "id": "1d581ec9-0d1f-458c-8f1b-4356c3108c23",
   "metadata": {
    "scrolled": true
   },
   "outputs": [
    {
     "data": {
      "text/html": [
       "<div>\n",
       "<style scoped>\n",
       "    .dataframe tbody tr th:only-of-type {\n",
       "        vertical-align: middle;\n",
       "    }\n",
       "\n",
       "    .dataframe tbody tr th {\n",
       "        vertical-align: top;\n",
       "    }\n",
       "\n",
       "    .dataframe thead th {\n",
       "        text-align: right;\n",
       "    }\n",
       "</style>\n",
       "<table border=\"1\" class=\"dataframe\">\n",
       "  <thead>\n",
       "    <tr style=\"text-align: right;\">\n",
       "      <th></th>\n",
       "      <th>class_label</th>\n",
       "      <th>alcohol</th>\n",
       "      <th>malic_acid</th>\n",
       "    </tr>\n",
       "  </thead>\n",
       "  <tbody>\n",
       "    <tr>\n",
       "      <th>0</th>\n",
       "      <td>1</td>\n",
       "      <td>14.23</td>\n",
       "      <td>1.71</td>\n",
       "    </tr>\n",
       "    <tr>\n",
       "      <th>1</th>\n",
       "      <td>1</td>\n",
       "      <td>13.20</td>\n",
       "      <td>1.78</td>\n",
       "    </tr>\n",
       "    <tr>\n",
       "      <th>2</th>\n",
       "      <td>1</td>\n",
       "      <td>13.16</td>\n",
       "      <td>2.36</td>\n",
       "    </tr>\n",
       "    <tr>\n",
       "      <th>3</th>\n",
       "      <td>1</td>\n",
       "      <td>14.37</td>\n",
       "      <td>1.95</td>\n",
       "    </tr>\n",
       "    <tr>\n",
       "      <th>4</th>\n",
       "      <td>1</td>\n",
       "      <td>13.24</td>\n",
       "      <td>2.59</td>\n",
       "    </tr>\n",
       "  </tbody>\n",
       "</table>\n",
       "</div>"
      ],
      "text/plain": [
       "   class_label  alcohol  malic_acid\n",
       "0            1    14.23        1.71\n",
       "1            1    13.20        1.78\n",
       "2            1    13.16        2.36\n",
       "3            1    14.37        1.95\n",
       "4            1    13.24        2.59"
      ]
     },
     "execution_count": 116,
     "metadata": {},
     "output_type": "execute_result"
    }
   ],
   "source": [
    "df.head(5)"
   ]
  },
  {
   "cell_type": "code",
   "execution_count": 118,
   "id": "a09ccbc2-23ed-415d-9467-67593e5a68e9",
   "metadata": {},
   "outputs": [],
   "source": [
    "from sklearn.model_selection import train_test_split\n",
    "x_train,x_test,y_train,y_test=train_test_split(df.drop(\"class_label\",axis=1),df[\"class_label\"],test_size=0.3,random_state=0)"
   ]
  },
  {
   "cell_type": "code",
   "execution_count": 120,
   "id": "48ef36fd-a547-404d-b81c-3da4dc3fe878",
   "metadata": {},
   "outputs": [
    {
     "data": {
      "text/plain": [
       "((124, 2), (54, 2))"
      ]
     },
     "execution_count": 120,
     "metadata": {},
     "output_type": "execute_result"
    }
   ],
   "source": [
    "x_train.shape, x_test.shape"
   ]
  },
  {
   "cell_type": "code",
   "execution_count": 122,
   "id": "532a7caa-8d43-465e-b594-a4b408c08d07",
   "metadata": {},
   "outputs": [],
   "source": [
    "from sklearn.preprocessing import MinMaxScaler\n",
    "scaler=MinMaxScaler()  #creating object\n",
    "scaler.fit(x_train)    #fit the scaler to the train set, it will learn the parameters\n",
    "x_train_scaled=scaler.transform(x_train)\n",
    "x_test_scaled=scaler.transform(x_test)"
   ]
  },
  {
   "cell_type": "code",
   "execution_count": 128,
   "id": "7cf5103d-7823-4dcd-81b4-2356e5dc184a",
   "metadata": {},
   "outputs": [],
   "source": [
    "x_train_scaled=pd.DataFrame(x_train_scaled,columns=x_train.columns)\n",
    "x_test_scaled=pd.DataFrame(x_test_scaled,columns=x_test.columns)"
   ]
  },
  {
   "cell_type": "code",
   "execution_count": 130,
   "id": "d4656ee4-9682-4637-bb89-7291ca776743",
   "metadata": {},
   "outputs": [
    {
     "data": {
      "text/html": [
       "<div>\n",
       "<style scoped>\n",
       "    .dataframe tbody tr th:only-of-type {\n",
       "        vertical-align: middle;\n",
       "    }\n",
       "\n",
       "    .dataframe tbody tr th {\n",
       "        vertical-align: top;\n",
       "    }\n",
       "\n",
       "    .dataframe thead th {\n",
       "        text-align: right;\n",
       "    }\n",
       "</style>\n",
       "<table border=\"1\" class=\"dataframe\">\n",
       "  <thead>\n",
       "    <tr style=\"text-align: right;\">\n",
       "      <th></th>\n",
       "      <th>alcohol</th>\n",
       "      <th>malic_acid</th>\n",
       "    </tr>\n",
       "  </thead>\n",
       "  <tbody>\n",
       "    <tr>\n",
       "      <th>count</th>\n",
       "      <td>124.00</td>\n",
       "      <td>124.00</td>\n",
       "    </tr>\n",
       "    <tr>\n",
       "      <th>mean</th>\n",
       "      <td>12.98</td>\n",
       "      <td>2.38</td>\n",
       "    </tr>\n",
       "    <tr>\n",
       "      <th>std</th>\n",
       "      <td>0.80</td>\n",
       "      <td>1.14</td>\n",
       "    </tr>\n",
       "    <tr>\n",
       "      <th>min</th>\n",
       "      <td>11.03</td>\n",
       "      <td>0.89</td>\n",
       "    </tr>\n",
       "    <tr>\n",
       "      <th>25%</th>\n",
       "      <td>12.36</td>\n",
       "      <td>1.61</td>\n",
       "    </tr>\n",
       "    <tr>\n",
       "      <th>50%</th>\n",
       "      <td>13.04</td>\n",
       "      <td>1.88</td>\n",
       "    </tr>\n",
       "    <tr>\n",
       "      <th>75%</th>\n",
       "      <td>13.64</td>\n",
       "      <td>3.25</td>\n",
       "    </tr>\n",
       "    <tr>\n",
       "      <th>max</th>\n",
       "      <td>14.75</td>\n",
       "      <td>5.65</td>\n",
       "    </tr>\n",
       "  </tbody>\n",
       "</table>\n",
       "</div>"
      ],
      "text/plain": [
       "       alcohol  malic_acid\n",
       "count   124.00      124.00\n",
       "mean     12.98        2.38\n",
       "std       0.80        1.14\n",
       "min      11.03        0.89\n",
       "25%      12.36        1.61\n",
       "50%      13.04        1.88\n",
       "75%      13.64        3.25\n",
       "max      14.75        5.65"
      ]
     },
     "execution_count": 130,
     "metadata": {},
     "output_type": "execute_result"
    }
   ],
   "source": [
    "np.round(x_train.describe(),2)"
   ]
  },
  {
   "cell_type": "code",
   "execution_count": 132,
   "id": "0b33552b-b2ba-4047-bb20-73223a35bed4",
   "metadata": {},
   "outputs": [
    {
     "data": {
      "text/html": [
       "<div>\n",
       "<style scoped>\n",
       "    .dataframe tbody tr th:only-of-type {\n",
       "        vertical-align: middle;\n",
       "    }\n",
       "\n",
       "    .dataframe tbody tr th {\n",
       "        vertical-align: top;\n",
       "    }\n",
       "\n",
       "    .dataframe thead th {\n",
       "        text-align: right;\n",
       "    }\n",
       "</style>\n",
       "<table border=\"1\" class=\"dataframe\">\n",
       "  <thead>\n",
       "    <tr style=\"text-align: right;\">\n",
       "      <th></th>\n",
       "      <th>alcohol</th>\n",
       "      <th>malic_acid</th>\n",
       "    </tr>\n",
       "  </thead>\n",
       "  <tbody>\n",
       "    <tr>\n",
       "      <th>count</th>\n",
       "      <td>124.00</td>\n",
       "      <td>124.00</td>\n",
       "    </tr>\n",
       "    <tr>\n",
       "      <th>mean</th>\n",
       "      <td>0.53</td>\n",
       "      <td>0.31</td>\n",
       "    </tr>\n",
       "    <tr>\n",
       "      <th>std</th>\n",
       "      <td>0.22</td>\n",
       "      <td>0.24</td>\n",
       "    </tr>\n",
       "    <tr>\n",
       "      <th>min</th>\n",
       "      <td>0.00</td>\n",
       "      <td>0.00</td>\n",
       "    </tr>\n",
       "    <tr>\n",
       "      <th>25%</th>\n",
       "      <td>0.36</td>\n",
       "      <td>0.15</td>\n",
       "    </tr>\n",
       "    <tr>\n",
       "      <th>50%</th>\n",
       "      <td>0.54</td>\n",
       "      <td>0.21</td>\n",
       "    </tr>\n",
       "    <tr>\n",
       "      <th>75%</th>\n",
       "      <td>0.70</td>\n",
       "      <td>0.50</td>\n",
       "    </tr>\n",
       "    <tr>\n",
       "      <th>max</th>\n",
       "      <td>1.00</td>\n",
       "      <td>1.00</td>\n",
       "    </tr>\n",
       "  </tbody>\n",
       "</table>\n",
       "</div>"
      ],
      "text/plain": [
       "       alcohol  malic_acid\n",
       "count   124.00      124.00\n",
       "mean      0.53        0.31\n",
       "std       0.22        0.24\n",
       "min       0.00        0.00\n",
       "25%       0.36        0.15\n",
       "50%       0.54        0.21\n",
       "75%       0.70        0.50\n",
       "max       1.00        1.00"
      ]
     },
     "execution_count": 132,
     "metadata": {},
     "output_type": "execute_result"
    }
   ],
   "source": [
    "np.round(x_train_scaled.describe(),2)"
   ]
  },
  {
   "cell_type": "code",
   "execution_count": null,
   "id": "486fcc1b-1351-4dd7-b0ba-7520ae6a4b56",
   "metadata": {},
   "outputs": [],
   "source": []
  }
 ],
 "metadata": {
  "kernelspec": {
   "display_name": "Python 3 (ipykernel)",
   "language": "python",
   "name": "python3"
  },
  "language_info": {
   "codemirror_mode": {
    "name": "ipython",
    "version": 3
   },
   "file_extension": ".py",
   "mimetype": "text/x-python",
   "name": "python",
   "nbconvert_exporter": "python",
   "pygments_lexer": "ipython3",
   "version": "3.12.4"
  }
 },
 "nbformat": 4,
 "nbformat_minor": 5
}
